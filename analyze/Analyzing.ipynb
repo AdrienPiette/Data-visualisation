{
 "cells": [
  {
   "cell_type": "markdown",
   "metadata": {},
   "source": [
    "Data Analyzing"
   ]
  },
  {
   "cell_type": "markdown",
   "metadata": {},
   "source": [
    "- How many rows and columns?\n",
    "- What is the correlation between the variables and the price? (Why might that be?)\n",
    "- How are variables correlated to each other? (Why?)\n",
    "- Which variables have the greatest influence on the price?\n",
    "- Which variables have the least influence on the price?\n",
    "- How many qualitative and quantitative variables are there? How would you transform these values into numerical values?"
   ]
  },
  {
   "cell_type": "markdown",
   "metadata": {},
   "source": [
    "Import libraries and establish df"
   ]
  },
  {
   "cell_type": "code",
   "execution_count": 6,
   "metadata": {},
   "outputs": [],
   "source": [
    "import pandas as pd\n",
    "import json\n",
    "import csv\n",
    "import numpy as np\n",
    "import matplotlib.pyplot as plt\n",
    "import seaborn as sns\n",
    "from scipy import stats\n",
    "\n",
    "df = pd.read_json('final_dataset.json')\n",
    "df = df.replace(r'\\s+', '', regex=True)\n",
    "#df_cleaned = df.dropna()\n",
    "\n",
    "#df_cleaned"
   ]
  },
  {
   "cell_type": "markdown",
   "metadata": {},
   "source": [
    "Display variables to compare with price"
   ]
  },
  {
   "cell_type": "code",
   "execution_count": 7,
   "metadata": {},
   "outputs": [
    {
     "data": {
      "text/plain": [
       "Index(['Url', 'BathroomCount', 'BedroomCount', 'ConstructionYear', 'Country',\n",
       "       'District', 'Fireplace', 'FloodingZone', 'Furnished', 'Garden',\n",
       "       'GardenArea', 'Kitchen', 'LivingArea', 'Locality', 'MonthlyCharges',\n",
       "       'NumberOfFacades', 'PEB', 'PostalCode', 'Price', 'PropertyId',\n",
       "       'Province', 'Region', 'RoomCount', 'ShowerCount', 'StateOfBuilding',\n",
       "       'SubtypeOfProperty', 'SurfaceOfPlot', 'SwimmingPool', 'Terrace',\n",
       "       'ToiletCount', 'TypeOfProperty', 'TypeOfSale'],\n",
       "      dtype='object')"
      ]
     },
     "execution_count": 7,
     "metadata": {},
     "output_type": "execute_result"
    }
   ],
   "source": [
    "df.columns"
   ]
  },
  {
   "cell_type": "markdown",
   "metadata": {},
   "source": [
    "Correlation between 'Openfire' and 'Price'"
   ]
  },
  {
   "cell_type": "code",
   "execution_count": 14,
   "metadata": {},
   "outputs": [
    {
     "name": "stdout",
     "output_type": "stream",
     "text": [
      "Fireplace\n",
      "1.0    4123\n",
      "Name: count, dtype: int64\n",
      "Price\n",
      "1          NaN\n",
      "25         NaN\n",
      "30         NaN\n",
      "34         NaN\n",
      "36         NaN\n",
      "            ..\n",
      "12500000   NaN\n",
      "14250000   NaN\n",
      "15000000   NaN\n",
      "22500000   NaN\n",
      "35000000   NaN\n",
      "Name: Fireplace, Length: 10501, dtype: float64\n",
      "<class 'pandas.core.frame.DataFrame'>\n",
      "Index: 118714 entries, 2 to 181792\n",
      "Data columns (total 32 columns):\n",
      " #   Column             Non-Null Count   Dtype  \n",
      "---  ------             --------------   -----  \n",
      " 0   Url                118714 non-null  object \n",
      " 1   BathroomCount      109112 non-null  float64\n",
      " 2   BedroomCount       118714 non-null  int64  \n",
      " 3   ConstructionYear   68898 non-null   float64\n",
      " 4   Country            118714 non-null  object \n",
      " 5   District           118707 non-null  object \n",
      " 6   Fireplace          4123 non-null    float64\n",
      " 7   FloodingZone       58342 non-null   object \n",
      " 8   Furnished          30325 non-null   float64\n",
      " 9   Garden             22503 non-null   float64\n",
      " 10  GardenArea         22503 non-null   float64\n",
      " 11  Kitchen            67134 non-null   object \n",
      " 12  LivingArea         104539 non-null  float64\n",
      " 13  Locality           118712 non-null  object \n",
      " 14  MonthlyCharges     13650 non-null   float64\n",
      " 15  NumberOfFacades    76942 non-null   float64\n",
      " 16  PEB                85074 non-null   object \n",
      " 17  PostalCode         118714 non-null  int64  \n",
      " 18  Price              118714 non-null  int64  \n",
      " 19  PropertyId         118714 non-null  int64  \n",
      " 20  Province           118707 non-null  object \n",
      " 21  Region             118707 non-null  object \n",
      " 22  RoomCount          32916 non-null   float64\n",
      " 23  ShowerCount        57127 non-null   float64\n",
      " 24  StateOfBuilding    81622 non-null   object \n",
      " 25  SubtypeOfProperty  118714 non-null  object \n",
      " 26  SurfaceOfPlot      58237 non-null   float64\n",
      " 27  SwimmingPool       40358 non-null   float64\n",
      " 28  Terrace            68344 non-null   float64\n",
      " 29  ToiletCount        96441 non-null   float64\n",
      " 30  TypeOfProperty     118714 non-null  int64  \n",
      " 31  TypeOfSale         118714 non-null  object \n",
      "dtypes: float64(15), int64(5), object(12)\n",
      "memory usage: 29.9+ MB\n",
      "None\n"
     ]
    }
   ],
   "source": [
    "print(df['Fireplace'].value_counts())\n",
    "print(df['Fireplace'].groupby(df['Price']).median())\n",
    "print(df.info())\n"
   ]
  },
  {
   "cell_type": "code",
   "execution_count": null,
   "metadata": {},
   "outputs": [],
   "source": [
    "#no open fire move to the next variable"
   ]
  },
  {
   "cell_type": "markdown",
   "metadata": {},
   "source": [
    "Correlation 'Furnished' with 'Price'"
   ]
  },
  {
   "cell_type": "code",
   "execution_count": 15,
   "metadata": {},
   "outputs": [
    {
     "name": "stdout",
     "output_type": "stream",
     "text": [
      "Furnished\n",
      "0.0    28201\n",
      "1.0     2124\n",
      "Name: count, dtype: int64\n",
      "Price\n",
      "1           0.0\n",
      "25          NaN\n",
      "30          NaN\n",
      "34          NaN\n",
      "36          NaN\n",
      "           ... \n",
      "12500000    NaN\n",
      "14250000    NaN\n",
      "15000000    0.0\n",
      "22500000    NaN\n",
      "35000000    NaN\n",
      "Name: Furnished, Length: 10501, dtype: float64\n",
      "<class 'pandas.core.frame.DataFrame'>\n",
      "Index: 118714 entries, 2 to 181792\n",
      "Data columns (total 32 columns):\n",
      " #   Column             Non-Null Count   Dtype  \n",
      "---  ------             --------------   -----  \n",
      " 0   Url                118714 non-null  object \n",
      " 1   BathroomCount      109112 non-null  float64\n",
      " 2   BedroomCount       118714 non-null  int64  \n",
      " 3   ConstructionYear   68898 non-null   float64\n",
      " 4   Country            118714 non-null  object \n",
      " 5   District           118707 non-null  object \n",
      " 6   Fireplace          4123 non-null    float64\n",
      " 7   FloodingZone       58342 non-null   object \n",
      " 8   Furnished          30325 non-null   float64\n",
      " 9   Garden             22503 non-null   float64\n",
      " 10  GardenArea         22503 non-null   float64\n",
      " 11  Kitchen            67134 non-null   object \n",
      " 12  LivingArea         104539 non-null  float64\n",
      " 13  Locality           118712 non-null  object \n",
      " 14  MonthlyCharges     13650 non-null   float64\n",
      " 15  NumberOfFacades    76942 non-null   float64\n",
      " 16  PEB                85074 non-null   object \n",
      " 17  PostalCode         118714 non-null  int64  \n",
      " 18  Price              118714 non-null  int64  \n",
      " 19  PropertyId         118714 non-null  int64  \n",
      " 20  Province           118707 non-null  object \n",
      " 21  Region             118707 non-null  object \n",
      " 22  RoomCount          32916 non-null   float64\n",
      " 23  ShowerCount        57127 non-null   float64\n",
      " 24  StateOfBuilding    81622 non-null   object \n",
      " 25  SubtypeOfProperty  118714 non-null  object \n",
      " 26  SurfaceOfPlot      58237 non-null   float64\n",
      " 27  SwimmingPool       40358 non-null   float64\n",
      " 28  Terrace            68344 non-null   float64\n",
      " 29  ToiletCount        96441 non-null   float64\n",
      " 30  TypeOfProperty     118714 non-null  int64  \n",
      " 31  TypeOfSale         118714 non-null  object \n",
      "dtypes: float64(15), int64(5), object(12)\n",
      "memory usage: 29.9+ MB\n",
      "None\n"
     ]
    }
   ],
   "source": [
    "print(df['Furnished'].value_counts())\n",
    "print(df['Furnished'].groupby(df['Price']).median())\n",
    "print(df.info())\n"
   ]
  },
  {
   "cell_type": "code",
   "execution_count": 16,
   "metadata": {},
   "outputs": [
    {
     "name": "stdout",
     "output_type": "stream",
     "text": [
      "0.027248964711879035\n"
     ]
    },
    {
     "data": {
      "image/png": "[encoded data removed]",
      "text/plain": [
       "<Figure size 1000x600 with 1 Axes>"
      ]
     },
     "metadata": {},
     "output_type": "display_data"
    }
   ],
   "source": [
    "coeff = df.Furnished.corr(df['Price'])\n",
    "\n",
    "print(coeff)\n",
    "\n",
    "plt.figure(figsize=(10, 6))\n",
    "sns.scatterplot(x='Furnished', y='Price', data=df)\n",
    "plt.title('Scatter Plot of Furnished vs Price')\n",
    "plt.xlabel('Furnished (0 = No, 1 = Yes)')\n",
    "plt.ylabel('Price')\n",
    "plt.show()\n"
   ]
  },
  {
   "cell_type": "markdown",
   "metadata": {},
   "source": [
    "Correlation 'Terrace' and 'Price'"
   ]
  },
  {
   "cell_type": "code",
   "execution_count": 17,
   "metadata": {},
   "outputs": [
    {
     "name": "stdout",
     "output_type": "stream",
     "text": [
      "Terrace\n",
      "1.0    68344\n",
      "Name: count, dtype: int64\n",
      "Price\n",
      "1           1.0\n",
      "25          1.0\n",
      "30          1.0\n",
      "34          NaN\n",
      "36          NaN\n",
      "           ... \n",
      "12500000    1.0\n",
      "14250000    1.0\n",
      "15000000    1.0\n",
      "22500000    NaN\n",
      "35000000    NaN\n",
      "Name: Terrace, Length: 10501, dtype: float64\n",
      "<class 'pandas.core.frame.DataFrame'>\n",
      "Index: 118714 entries, 2 to 181792\n",
      "Data columns (total 32 columns):\n",
      " #   Column             Non-Null Count   Dtype  \n",
      "---  ------             --------------   -----  \n",
      " 0   Url                118714 non-null  object \n",
      " 1   BathroomCount      109112 non-null  float64\n",
      " 2   BedroomCount       118714 non-null  int64  \n",
      " 3   ConstructionYear   68898 non-null   float64\n",
      " 4   Country            118714 non-null  object \n",
      " 5   District           118707 non-null  object \n",
      " 6   Fireplace          4123 non-null    float64\n",
      " 7   FloodingZone       58342 non-null   object \n",
      " 8   Furnished          30325 non-null   float64\n",
      " 9   Garden             22503 non-null   float64\n",
      " 10  GardenArea         22503 non-null   float64\n",
      " 11  Kitchen            67134 non-null   object \n",
      " 12  LivingArea         104539 non-null  float64\n",
      " 13  Locality           118712 non-null  object \n",
      " 14  MonthlyCharges     13650 non-null   float64\n",
      " 15  NumberOfFacades    76942 non-null   float64\n",
      " 16  PEB                85074 non-null   object \n",
      " 17  PostalCode         118714 non-null  int64  \n",
      " 18  Price              118714 non-null  int64  \n",
      " 19  PropertyId         118714 non-null  int64  \n",
      " 20  Province           118707 non-null  object \n",
      " 21  Region             118707 non-null  object \n",
      " 22  RoomCount          32916 non-null   float64\n",
      " 23  ShowerCount        57127 non-null   float64\n",
      " 24  StateOfBuilding    81622 non-null   object \n",
      " 25  SubtypeOfProperty  118714 non-null  object \n",
      " 26  SurfaceOfPlot      58237 non-null   float64\n",
      " 27  SwimmingPool       40358 non-null   float64\n",
      " 28  Terrace            68344 non-null   float64\n",
      " 29  ToiletCount        96441 non-null   float64\n",
      " 30  TypeOfProperty     118714 non-null  int64  \n",
      " 31  TypeOfSale         118714 non-null  object \n",
      "dtypes: float64(15), int64(5), object(12)\n",
      "memory usage: 29.9+ MB\n",
      "None\n"
     ]
    }
   ],
   "source": [
    "print(df['Terrace'].value_counts())\n",
    "print(df['Terrace'].groupby(df['Price']).median())\n",
    "print(df.info())"
   ]
  },
  {
   "cell_type": "code",
   "execution_count": 18,
   "metadata": {},
   "outputs": [
    {
     "ename": "TypeError",
     "evalue": "unsupported type: <class 'list'>",
     "output_type": "error",
     "traceback": [
      "\u001b[1;31m---------------------------------------------------------------------------\u001b[0m",
      "\u001b[1;31mTypeError\u001b[0m                                 Traceback (most recent call last)",
      "\u001b[1;32m~\\AppData\\Local\\Temp\\ipykernel_5248\\3335507407.py\u001b[0m in \u001b[0;36m?\u001b[1;34m()\u001b[0m\n\u001b[1;32m----> 1\u001b[1;33m \u001b[0mcoeff\u001b[0m \u001b[1;33m=\u001b[0m \u001b[0mdf\u001b[0m\u001b[1;33m.\u001b[0m\u001b[0mTerrace\u001b[0m\u001b[1;33m.\u001b[0m\u001b[0mcorr\u001b[0m\u001b[1;33m(\u001b[0m\u001b[1;33m[\u001b[0m\u001b[1;34m'Price'\u001b[0m\u001b[1;33m]\u001b[0m\u001b[1;33m)\u001b[0m\u001b[1;33m\u001b[0m\u001b[1;33m\u001b[0m\u001b[0m\n\u001b[0m\u001b[0;32m      2\u001b[0m \u001b[1;33m\u001b[0m\u001b[0m\n\u001b[0;32m      3\u001b[0m \u001b[0mprint\u001b[0m\u001b[1;33m(\u001b[0m\u001b[0mcoeff\u001b[0m\u001b[1;33m)\u001b[0m\u001b[1;33m\u001b[0m\u001b[1;33m\u001b[0m\u001b[0m\n\u001b[0;32m      4\u001b[0m \u001b[1;33m\u001b[0m\u001b[0m\n",
      "\u001b[1;32m~\\AppData\\Local\\Packages\\PythonSoftwareFoundation.Python.3.12_qbz5n2kfra8p0\\LocalCache\\local-packages\\Python312\\site-packages\\pandas\\core\\series.py\u001b[0m in \u001b[0;36m?\u001b[1;34m(self, other, method, min_periods)\u001b[0m\n\u001b[0;32m   2965\u001b[0m         \u001b[1;33m>>\u001b[0m\u001b[1;33m>\u001b[0m \u001b[0ms2\u001b[0m \u001b[1;33m=\u001b[0m \u001b[0mpd\u001b[0m\u001b[1;33m.\u001b[0m\u001b[0mSeries\u001b[0m\u001b[1;33m(\u001b[0m\u001b[1;33m[\u001b[0m\u001b[1;36m1\u001b[0m\u001b[1;33m,\u001b[0m \u001b[1;36m2\u001b[0m\u001b[1;33m,\u001b[0m \u001b[1;36m3\u001b[0m\u001b[1;33m]\u001b[0m\u001b[1;33m,\u001b[0m \u001b[0mindex\u001b[0m\u001b[1;33m=\u001b[0m\u001b[1;33m[\u001b[0m\u001b[1;36m2\u001b[0m\u001b[1;33m,\u001b[0m \u001b[1;36m1\u001b[0m\u001b[1;33m,\u001b[0m \u001b[1;36m0\u001b[0m\u001b[1;33m]\u001b[0m\u001b[1;33m)\u001b[0m\u001b[1;33m\u001b[0m\u001b[1;33m\u001b[0m\u001b[0m\n\u001b[0;32m   2966\u001b[0m         \u001b[1;33m>>\u001b[0m\u001b[1;33m>\u001b[0m \u001b[0ms1\u001b[0m\u001b[1;33m.\u001b[0m\u001b[0mcorr\u001b[0m\u001b[1;33m(\u001b[0m\u001b[0ms2\u001b[0m\u001b[1;33m)\u001b[0m\u001b[1;33m\u001b[0m\u001b[1;33m\u001b[0m\u001b[0m\n\u001b[0;32m   2967\u001b[0m         \u001b[1;33m-\u001b[0m\u001b[1;36m1.0\u001b[0m\u001b[1;33m\u001b[0m\u001b[1;33m\u001b[0m\u001b[0m\n\u001b[0;32m   2968\u001b[0m         \"\"\"  # noqa: E501\n\u001b[1;32m-> 2969\u001b[1;33m         \u001b[0mthis\u001b[0m\u001b[1;33m,\u001b[0m \u001b[0mother\u001b[0m \u001b[1;33m=\u001b[0m \u001b[0mself\u001b[0m\u001b[1;33m.\u001b[0m\u001b[0malign\u001b[0m\u001b[1;33m(\u001b[0m\u001b[0mother\u001b[0m\u001b[1;33m,\u001b[0m \u001b[0mjoin\u001b[0m\u001b[1;33m=\u001b[0m\u001b[1;34m\"inner\"\u001b[0m\u001b[1;33m,\u001b[0m \u001b[0mcopy\u001b[0m\u001b[1;33m=\u001b[0m\u001b[1;32mFalse\u001b[0m\u001b[1;33m)\u001b[0m\u001b[1;33m\u001b[0m\u001b[1;33m\u001b[0m\u001b[0m\n\u001b[0m\u001b[0;32m   2970\u001b[0m         \u001b[1;32mif\u001b[0m \u001b[0mlen\u001b[0m\u001b[1;33m(\u001b[0m\u001b[0mthis\u001b[0m\u001b[1;33m)\u001b[0m \u001b[1;33m==\u001b[0m \u001b[1;36m0\u001b[0m\u001b[1;33m:\u001b[0m\u001b[1;33m\u001b[0m\u001b[1;33m\u001b[0m\u001b[0m\n\u001b[0;32m   2971\u001b[0m             \u001b[1;32mreturn\u001b[0m \u001b[0mnp\u001b[0m\u001b[1;33m.\u001b[0m\u001b[0mnan\u001b[0m\u001b[1;33m\u001b[0m\u001b[1;33m\u001b[0m\u001b[0m\n\u001b[0;32m   2972\u001b[0m \u001b[1;33m\u001b[0m\u001b[0m\n",
      "\u001b[1;32m~\\AppData\\Local\\Packages\\PythonSoftwareFoundation.Python.3.12_qbz5n2kfra8p0\\LocalCache\\local-packages\\Python312\\site-packages\\pandas\\core\\generic.py\u001b[0m in \u001b[0;36m?\u001b[1;34m(self, other, join, axis, level, copy, fill_value, method, limit, fill_axis, broadcast_axis)\u001b[0m\n\u001b[0;32m  10455\u001b[0m                 \u001b[0mlimit\u001b[0m\u001b[1;33m=\u001b[0m\u001b[0mlimit\u001b[0m\u001b[1;33m,\u001b[0m\u001b[1;33m\u001b[0m\u001b[1;33m\u001b[0m\u001b[0m\n\u001b[0;32m  10456\u001b[0m                 \u001b[0mfill_axis\u001b[0m\u001b[1;33m=\u001b[0m\u001b[0mfill_axis\u001b[0m\u001b[1;33m,\u001b[0m\u001b[1;33m\u001b[0m\u001b[1;33m\u001b[0m\u001b[0m\n\u001b[0;32m  10457\u001b[0m             \u001b[1;33m)\u001b[0m\u001b[1;33m\u001b[0m\u001b[1;33m\u001b[0m\u001b[0m\n\u001b[0;32m  10458\u001b[0m         \u001b[1;32melse\u001b[0m\u001b[1;33m:\u001b[0m  \u001b[1;31m# pragma: no cover\u001b[0m\u001b[1;33m\u001b[0m\u001b[1;33m\u001b[0m\u001b[0m\n\u001b[1;32m> 10459\u001b[1;33m             \u001b[1;32mraise\u001b[0m \u001b[0mTypeError\u001b[0m\u001b[1;33m(\u001b[0m\u001b[1;33mf\"\u001b[0m\u001b[1;33munsupported type: \u001b[0m\u001b[1;33m{\u001b[0m\u001b[0mtype\u001b[0m\u001b[1;33m(\u001b[0m\u001b[0mother\u001b[0m\u001b[1;33m)\u001b[0m\u001b[1;33m}\u001b[0m\u001b[1;33m\"\u001b[0m\u001b[1;33m)\u001b[0m\u001b[1;33m\u001b[0m\u001b[1;33m\u001b[0m\u001b[0m\n\u001b[0m\u001b[0;32m  10460\u001b[0m \u001b[1;33m\u001b[0m\u001b[0m\n\u001b[0;32m  10461\u001b[0m         \u001b[0mright\u001b[0m \u001b[1;33m=\u001b[0m \u001b[0mcast\u001b[0m\u001b[1;33m(\u001b[0m\u001b[0mNDFrameT\u001b[0m\u001b[1;33m,\u001b[0m \u001b[0m_right\u001b[0m\u001b[1;33m)\u001b[0m\u001b[1;33m\u001b[0m\u001b[1;33m\u001b[0m\u001b[0m\n\u001b[0;32m  10462\u001b[0m         \u001b[1;32mif\u001b[0m \u001b[0mself\u001b[0m\u001b[1;33m.\u001b[0m\u001b[0mndim\u001b[0m \u001b[1;33m==\u001b[0m \u001b[1;36m1\u001b[0m \u001b[1;32mor\u001b[0m \u001b[0maxis\u001b[0m \u001b[1;33m==\u001b[0m \u001b[1;36m0\u001b[0m\u001b[1;33m:\u001b[0m\u001b[1;33m\u001b[0m\u001b[1;33m\u001b[0m\u001b[0m\n",
      "\u001b[1;31mTypeError\u001b[0m: unsupported type: <class 'list'>"
     ]
    }
   ],
   "source": [
    "coeff = df.Terrace.corr(['Price'])\n",
    "\n",
    "print(coeff)\n",
    "\n",
    "plt.figure(figsize=(10, 6))\n",
    "sns.scatterplot(x='Furnished', y='Price', data=df)\n",
    "plt.title('Scatter Plot of Furnished vs Price')\n",
    "plt.xlabel('Furnished (0 = No, 1 = Yes)')\n",
    "plt.ylabel('Price')\n",
    "plt.show()"
   ]
  },
  {
   "cell_type": "markdown",
   "metadata": {},
   "source": [
    "Correlation 'Garden' and 'Price'"
   ]
  },
  {
   "cell_type": "code",
   "execution_count": null,
   "metadata": {},
   "outputs": [],
   "source": []
  }
 ],
 "metadata": {
  "kernelspec": {
   "display_name": "Python 3",
   "language": "python",
   "name": "python3"
  },
  "language_info": {
   "codemirror_mode": {
    "name": "ipython",
    "version": 3
   },
   "file_extension": ".py",
   "mimetype": "text/x-python",
   "name": "python",
   "nbconvert_exporter": "python",
   "pygments_lexer": "ipython3",
   "version": "3.12.4"
  }
 },
 "nbformat": 4,
 "nbformat_minor": 2
}
