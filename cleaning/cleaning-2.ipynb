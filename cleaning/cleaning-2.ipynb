{
 "cells": [
  {
   "cell_type": "markdown",
   "metadata": {},
   "source": [
    "Data cleaning\n"
   ]
  },
  {
   "cell_type": "markdown",
   "metadata": {},
   "source": [
    "Step 1: Importing Necessary Libraries"
   ]
  },
  {
   "cell_type": "markdown",
   "metadata": {},
   "source": [
    "- No duplicates\n",
    "- No blank spaces (ex: `\" I love python \"` => `\"I love python\"`)\n",
    "- No errors\n",
    "- No empty values"
   ]
  },
  {
   "cell_type": "code",
   "execution_count": 22,
   "metadata": {},
   "outputs": [],
   "source": [
    "import pandas as pd"
   ]
  },
  {
   "cell_type": "markdown",
   "metadata": {},
   "source": [
    "Step 2: Reading Data into a DataFrame"
   ]
  },
  {
   "cell_type": "code",
   "execution_count": 23,
   "metadata": {},
   "outputs": [],
   "source": [
    "df = pd.read_json('final_dataset.json')"
   ]
  },
  {
   "cell_type": "markdown",
   "metadata": {},
   "source": [
    "Step 3: Exploring the DataFrame"
   ]
  },
  {
   "cell_type": "code",
   "execution_count": 24,
   "metadata": {},
   "outputs": [
    {
     "name": "stdout",
     "output_type": "stream",
     "text": [
      "(118714, 32)\n",
      "<class 'pandas.core.frame.DataFrame'>\n",
      "Index: 118714 entries, 2 to 181792\n",
      "Data columns (total 32 columns):\n",
      " #   Column             Non-Null Count   Dtype  \n",
      "---  ------             --------------   -----  \n",
      " 0   Url                118714 non-null  object \n",
      " 1   BathroomCount      109112 non-null  float64\n",
      " 2   BedroomCount       118714 non-null  int64  \n",
      " 3   ConstructionYear   68898 non-null   float64\n",
      " 4   Country            118714 non-null  object \n",
      " 5   District           118707 non-null  object \n",
      " 6   Fireplace          4123 non-null    float64\n",
      " 7   FloodingZone       58342 non-null   object \n",
      " 8   Furnished          30325 non-null   float64\n",
      " 9   Garden             22503 non-null   float64\n",
      " 10  GardenArea         22503 non-null   float64\n",
      " 11  Kitchen            67134 non-null   object \n",
      " 12  LivingArea         104539 non-null  float64\n",
      " 13  Locality           118712 non-null  object \n",
      " 14  MonthlyCharges     13650 non-null   float64\n",
      " 15  NumberOfFacades    76942 non-null   float64\n",
      " 16  PEB                85074 non-null   object \n",
      " 17  PostalCode         118714 non-null  int64  \n",
      " 18  Price              118714 non-null  int64  \n",
      " 19  PropertyId         118714 non-null  int64  \n",
      " 20  Province           118707 non-null  object \n",
      " 21  Region             118707 non-null  object \n",
      " 22  RoomCount          32916 non-null   float64\n",
      " 23  ShowerCount        57127 non-null   float64\n",
      " 24  StateOfBuilding    81622 non-null   object \n",
      " 25  SubtypeOfProperty  118714 non-null  object \n",
      " 26  SurfaceOfPlot      58237 non-null   float64\n",
      " 27  SwimmingPool       40358 non-null   float64\n",
      " 28  Terrace            68344 non-null   float64\n",
      " 29  ToiletCount        96441 non-null   float64\n",
      " 30  TypeOfProperty     118714 non-null  int64  \n",
      " 31  TypeOfSale         118714 non-null  object \n",
      "dtypes: float64(15), int64(5), object(12)\n",
      "memory usage: 29.9+ MB\n",
      "None\n",
      "       BathroomCount   BedroomCount  ConstructionYear  Fireplace  \\\n",
      "count  109112.000000  118714.000000      68898.000000     4123.0   \n",
      "mean        1.232898       2.708383       1987.345496        1.0   \n",
      "std         1.092045       1.855343         47.311922        0.0   \n",
      "min         0.000000       0.000000       1753.000000        1.0   \n",
      "25%         1.000000       2.000000       1964.000000        1.0   \n",
      "50%         1.000000       3.000000       2000.000000        1.0   \n",
      "75%         1.000000       3.000000       2023.000000        1.0   \n",
      "max       145.000000     200.000000       8071.000000        1.0   \n",
      "\n",
      "          Furnished   Garden    GardenArea     LivingArea  MonthlyCharges  \\\n",
      "count  30325.000000  22503.0  2.250300e+04  104539.000000    13650.000000   \n",
      "mean       0.070041      1.0  4.509960e+04     167.396417       84.239853   \n",
      "std        0.255221      0.0  6.666220e+06    1814.592952      179.608171   \n",
      "min        0.000000      1.0  1.000000e+00       9.000000        0.000000   \n",
      "25%        0.000000      1.0  4.800000e+01      90.000000        0.000000   \n",
      "50%        0.000000      1.0  1.400000e+02     124.000000       30.000000   \n",
      "75%        0.000000      1.0  4.500000e+02     182.000000      120.000000   \n",
      "max        1.000000      1.0  1.000000e+09  452230.000000     5250.000000   \n",
      "\n",
      "       NumberOfFacades     PostalCode         Price    PropertyId  \\\n",
      "count     76942.000000  118714.000000  1.187140e+05  1.187140e+05   \n",
      "mean          2.791557    5166.113129  3.815797e+05  1.245875e+07   \n",
      "std           0.872792    3060.657713  4.754330e+05  3.131297e+06   \n",
      "min           1.000000       0.000000  1.000000e+00  1.882546e+06   \n",
      "25%           2.000000    2250.000000  2.000000e+05  1.114592e+07   \n",
      "50%           3.000000    4671.000000  3.095000e+05  1.138077e+07   \n",
      "75%           4.000000    8400.000000  4.390000e+05  1.146776e+07   \n",
      "max          24.000000    9992.000000  3.500000e+07  2.002586e+07   \n",
      "\n",
      "          RoomCount   ShowerCount  SurfaceOfPlot  SwimmingPool  Terrace  \\\n",
      "count  32916.000000  57127.000000   5.823700e+04  40358.000000  68344.0   \n",
      "mean       6.806538      0.696186   3.118253e+03      0.050994      1.0   \n",
      "std        5.458941      6.563612   4.776406e+05      0.219987      0.0   \n",
      "min        1.000000      0.000000   0.000000e+00      0.000000      1.0   \n",
      "25%        2.000000      0.000000   1.480000e+02      0.000000      1.0   \n",
      "50%        6.000000      0.000000   3.530000e+02      0.000000      1.0   \n",
      "75%       10.000000      1.000000   8.000000e+02      0.000000      1.0   \n",
      "max       68.000000   1120.000000   1.152500e+08      1.000000      1.0   \n",
      "\n",
      "        ToiletCount  TypeOfProperty  \n",
      "count  9.644100e+04   118714.000000  \n",
      "mean   4.120696e+01        1.509460  \n",
      "std    1.234059e+04        0.499913  \n",
      "min    0.000000e+00        1.000000  \n",
      "25%    1.000000e+00        1.000000  \n",
      "50%    1.000000e+00        2.000000  \n",
      "75%    2.000000e+00        2.000000  \n",
      "max    3.832365e+06        2.000000  \n"
     ]
    }
   ],
   "source": [
    "print(df.shape)\n",
    "print(df.info())\n",
    "print(df.describe())"
   ]
  },
  {
   "cell_type": "markdown",
   "metadata": {},
   "source": [
    "Step 4: Data Cleaning and Preprocessing"
   ]
  },
  {
   "cell_type": "markdown",
   "metadata": {},
   "source": [
    "Delete Blank spaces"
   ]
  },
  {
   "cell_type": "code",
   "execution_count": 25,
   "metadata": {},
   "outputs": [],
   "source": [
    "df['Url'] = df['Url'].str.strip()\n",
    "df['Country'] = df['Country'].str.strip()\n",
    "df['District'] = df['District'].str.strip()\n",
    "df['FloodingZone'] = df['FloodingZone'].str.strip()\n",
    "df['Kitchen'] = df['Kitchen'].str.strip()\n",
    "df['Locality'] = df['Locality'].str.strip()\n",
    "df['PEB'] = df['PEB'].str.strip()\n",
    "df['Province'] = df['Province'].str.strip()\n",
    "df['Region'] = df['Region'].str.strip()\n",
    "df['StateOfBuilding'] = df['StateOfBuilding'].str.strip()\n",
    "df['SubtypeOfProperty'] = df['SubtypeOfProperty'].str.strip()\n",
    "#df['TypeOfSale'] = df['TypeOfSale'].str.strip"
   ]
  },
  {
   "cell_type": "markdown",
   "metadata": {},
   "source": [
    "Checking for duplicates"
   ]
  },
  {
   "cell_type": "code",
   "execution_count": 26,
   "metadata": {},
   "outputs": [],
   "source": [
    "df.drop_duplicates('PropertyId',  inplace = True)"
   ]
  },
  {
   "cell_type": "code",
   "execution_count": 27,
   "metadata": {},
   "outputs": [
    {
     "data": {
      "text/plain": [
       "(118714, 32)"
      ]
     },
     "execution_count": 27,
     "metadata": {},
     "output_type": "execute_result"
    }
   ],
   "source": [
    "df.shape"
   ]
  },
  {
   "cell_type": "markdown",
   "metadata": {},
   "source": [
    "Astype int values in  floated columns"
   ]
  },
  {
   "cell_type": "markdown",
   "metadata": {},
   "source": [
    "REMOVING THE NONSENSE DATA "
   ]
  },
  {
   "cell_type": "code",
   "execution_count": 28,
   "metadata": {},
   "outputs": [],
   "source": [
    "df.drop(df[df.BathroomCount > 5].index,inplace=True)\n",
    "df.drop(df[df.BedroomCount > 5].index,inplace=True)\n",
    "df.drop(df[df.ConstructionYear > 2020].index,inplace=True)\n",
    "df.drop(df[df.LivingArea > 400].index,inplace=True)\n",
    "df.drop(df[df.NumberOfFacades > 6].index,inplace=True)\n",
    "df.drop(df[df.RoomCount > 6].index,inplace=True)\n",
    "df.drop(df[df.ShowerCount > 5].index,inplace=True)\n",
    "df.drop(df[df.SurfaceOfPlot > 1500].index,inplace=True)\n",
    "df.drop(df[df.ToiletCount > 5].index,inplace=True)\n",
    "df.drop(df[df.GardenArea > 400].index,inplace=True)"
   ]
  },
  {
   "cell_type": "code",
   "execution_count": 29,
   "metadata": {},
   "outputs": [
    {
     "data": {
      "text/plain": [
       "(70967, 32)"
      ]
     },
     "execution_count": 29,
     "metadata": {},
     "output_type": "execute_result"
    }
   ],
   "source": [
    "df.shape"
   ]
  },
  {
   "cell_type": "code",
   "execution_count": 30,
   "metadata": {},
   "outputs": [
    {
     "data": {
      "text/plain": [
       "count    12781.000000\n",
       "mean         2.657460\n",
       "std          1.745559\n",
       "min          1.000000\n",
       "25%          1.000000\n",
       "50%          2.000000\n",
       "75%          4.000000\n",
       "max          6.000000\n",
       "Name: RoomCount, dtype: float64"
      ]
     },
     "execution_count": 30,
     "metadata": {},
     "output_type": "execute_result"
    }
   ],
   "source": [
    "df[\"RoomCount\"].describe()"
   ]
  },
  {
   "cell_type": "markdown",
   "metadata": {},
   "source": [
    "Checking for empty values and replace by the median for numerical values and mode for non numerical values\n"
   ]
  },
  {
   "cell_type": "code",
   "execution_count": 31,
   "metadata": {},
   "outputs": [],
   "source": [
    "df.loc[df['ShowerCount'] > 5, 'ShowerCount'] = 5\n",
    "df.loc[df['BedroomCount'] > 5, 'BedroomCount'] = 5\n",
    "df.loc[df['BathroomCount'] > 5, 'BathroomCount'] = 5\n",
    "df.loc[df['RoomCount'] > 5, 'RoomCount'] = 5\n",
    "df.loc[df['ToiletCount'] > 3, 'ToiletCount'] = 3\n",
    "df.loc[df['ConstructionYear'] > 2020, 'ConstructionYear'] = 2020\n",
    "df.loc[df['GardenArea'] > 200, 'ToiletCount'] = 300\n",
    "\n",
    "\n",
    "\n",
    "\n",
    "\n"
   ]
  },
  {
   "cell_type": "code",
   "execution_count": 32,
   "metadata": {},
   "outputs": [],
   "source": [
    "df = df.fillna({'BathroomCount': df['BathroomCount'].median(),\n",
    "                 'ConstructionYear': df['ConstructionYear'].median(),\n",
    "                 'GardenArea': df['GardenArea'].median(),\n",
    "                 'LivingArea': df['LivingArea'].median(), \n",
    "                 'MonthlyCharges': df['MonthlyCharges'].median(), \n",
    "                 'NumberOfFacades': df['NumberOfFacades'].median(), \n",
    "                 'RoomCount': df['RoomCount'].median(), \n",
    "                 'ShowerCount': df['ShowerCount'].median(), \n",
    "                 'SurfaceOfPlot': df['SurfaceOfPlot'].median(), \n",
    "                 'ToiletCount': df['ToiletCount'].median()\n",
    "                 })"
   ]
  },
  {
   "cell_type": "code",
   "execution_count": 33,
   "metadata": {},
   "outputs": [],
   "source": [
    "df = df.fillna({'FloodingZone': df['FloodingZone'].mode()[0],\n",
    "                'Country': df['Country'].mode()[0], \n",
    "                'District': df['District'].mode()[0], \n",
    "                'Kitchen': df['Kitchen'].mode()[0], \n",
    "                'Locality': df['Locality'].mode()[0], \n",
    "                'PEB': df['PEB'].mode()[0], \n",
    "                'Province': df['Province'].mode()[0], \n",
    "                'Region': df['Region'].mode()[0], \n",
    "                'StateOfBuilding': df['StateOfBuilding'].mode()[0], \n",
    "                'SubtypeOfProperty': df['SubtypeOfProperty'].mode()[0], \n",
    "                #'TypeOfSale': df['TypeOfSale'].mode()[0],\n",
    "                #'Fireplace': df['Fireplace'].fillna(0),\n",
    "                'Furnished': df['Furnished'].mode()[0],\n",
    "                'SwimmingPool': df['SwimmingPool'].mode()[0], \n",
    "                #'Terrace': df['Terrace'].fillna(0),\n",
    "                #'Garden': df['Garden'].fillna(0)\n",
    "                 })"
   ]
  },
  {
   "cell_type": "code",
   "execution_count": 34,
   "metadata": {},
   "outputs": [],
   "source": [
    "df['Fireplace'] = df['Fireplace'].fillna(0)\n",
    "df['Terrace'] = df['Terrace'].fillna(0)\n",
    "df['Garden'] = df['Garden'].fillna(0)"
   ]
  },
  {
   "cell_type": "code",
   "execution_count": 35,
   "metadata": {},
   "outputs": [],
   "source": [
    "df = df.dropna(subset=['Locality'])"
   ]
  },
  {
   "cell_type": "code",
   "execution_count": 36,
   "metadata": {},
   "outputs": [
    {
     "data": {
      "text/html": [
       "<div>\n",
       "<style scoped>\n",
       "    .dataframe tbody tr th:only-of-type {\n",
       "        vertical-align: middle;\n",
       "    }\n",
       "\n",
       "    .dataframe tbody tr th {\n",
       "        vertical-align: top;\n",
       "    }\n",
       "\n",
       "    .dataframe thead th {\n",
       "        text-align: right;\n",
       "    }\n",
       "</style>\n",
       "<table border=\"1\" class=\"dataframe\">\n",
       "  <thead>\n",
       "    <tr style=\"text-align: right;\">\n",
       "      <th></th>\n",
       "      <th>Url</th>\n",
       "      <th>BathroomCount</th>\n",
       "      <th>BedroomCount</th>\n",
       "      <th>ConstructionYear</th>\n",
       "      <th>Country</th>\n",
       "      <th>District</th>\n",
       "      <th>Fireplace</th>\n",
       "      <th>FloodingZone</th>\n",
       "      <th>Furnished</th>\n",
       "      <th>Garden</th>\n",
       "      <th>...</th>\n",
       "      <th>RoomCount</th>\n",
       "      <th>ShowerCount</th>\n",
       "      <th>StateOfBuilding</th>\n",
       "      <th>SubtypeOfProperty</th>\n",
       "      <th>SurfaceOfPlot</th>\n",
       "      <th>SwimmingPool</th>\n",
       "      <th>Terrace</th>\n",
       "      <th>ToiletCount</th>\n",
       "      <th>TypeOfProperty</th>\n",
       "      <th>TypeOfSale</th>\n",
       "    </tr>\n",
       "  </thead>\n",
       "  <tbody>\n",
       "    <tr>\n",
       "      <th>2</th>\n",
       "      <td>https://www.immoweb.be/en/classified/apartment...</td>\n",
       "      <td>1</td>\n",
       "      <td>1</td>\n",
       "      <td>1969</td>\n",
       "      <td>Belgium</td>\n",
       "      <td>Brugge</td>\n",
       "      <td>0</td>\n",
       "      <td>NON_FLOOD_ZONE</td>\n",
       "      <td>0</td>\n",
       "      <td>0</td>\n",
       "      <td>...</td>\n",
       "      <td>1</td>\n",
       "      <td>0</td>\n",
       "      <td>GOOD</td>\n",
       "      <td>flat_studio</td>\n",
       "      <td>255</td>\n",
       "      <td>0</td>\n",
       "      <td>1</td>\n",
       "      <td>1</td>\n",
       "      <td>2</td>\n",
       "      <td>residential_sale</td>\n",
       "    </tr>\n",
       "    <tr>\n",
       "      <th>8</th>\n",
       "      <td>https://www.immoweb.be/en/classified/house/for...</td>\n",
       "      <td>2</td>\n",
       "      <td>4</td>\n",
       "      <td>2008</td>\n",
       "      <td>Belgium</td>\n",
       "      <td>Brugge</td>\n",
       "      <td>0</td>\n",
       "      <td>NON_FLOOD_ZONE</td>\n",
       "      <td>1</td>\n",
       "      <td>0</td>\n",
       "      <td>...</td>\n",
       "      <td>2</td>\n",
       "      <td>0</td>\n",
       "      <td>GOOD</td>\n",
       "      <td>house</td>\n",
       "      <td>0</td>\n",
       "      <td>0</td>\n",
       "      <td>0</td>\n",
       "      <td>2</td>\n",
       "      <td>1</td>\n",
       "      <td>residential_sale</td>\n",
       "    </tr>\n",
       "    <tr>\n",
       "      <th>10</th>\n",
       "      <td>https://www.immoweb.be/en/classified/house/for...</td>\n",
       "      <td>1</td>\n",
       "      <td>4</td>\n",
       "      <td>1971</td>\n",
       "      <td>Belgium</td>\n",
       "      <td>Veurne</td>\n",
       "      <td>0</td>\n",
       "      <td>NON_FLOOD_ZONE</td>\n",
       "      <td>0</td>\n",
       "      <td>1</td>\n",
       "      <td>...</td>\n",
       "      <td>2</td>\n",
       "      <td>0</td>\n",
       "      <td>TO_BE_DONE_UP</td>\n",
       "      <td>house</td>\n",
       "      <td>170</td>\n",
       "      <td>0</td>\n",
       "      <td>1</td>\n",
       "      <td>2</td>\n",
       "      <td>1</td>\n",
       "      <td>residential_sale</td>\n",
       "    </tr>\n",
       "    <tr>\n",
       "      <th>11</th>\n",
       "      <td>https://www.immoweb.be/en/classified/apartment...</td>\n",
       "      <td>0</td>\n",
       "      <td>2</td>\n",
       "      <td>1972</td>\n",
       "      <td>Belgium</td>\n",
       "      <td>Hasselt</td>\n",
       "      <td>0</td>\n",
       "      <td>NON_FLOOD_ZONE</td>\n",
       "      <td>0</td>\n",
       "      <td>0</td>\n",
       "      <td>...</td>\n",
       "      <td>1</td>\n",
       "      <td>0</td>\n",
       "      <td>AS_NEW</td>\n",
       "      <td>apartment</td>\n",
       "      <td>255</td>\n",
       "      <td>0</td>\n",
       "      <td>1</td>\n",
       "      <td>1</td>\n",
       "      <td>2</td>\n",
       "      <td>residential_sale</td>\n",
       "    </tr>\n",
       "    <tr>\n",
       "      <th>14</th>\n",
       "      <td>https://www.immoweb.be/en/classified/apartment...</td>\n",
       "      <td>1</td>\n",
       "      <td>1</td>\n",
       "      <td>1994</td>\n",
       "      <td>Belgium</td>\n",
       "      <td>Brussels</td>\n",
       "      <td>0</td>\n",
       "      <td>NON_FLOOD_ZONE</td>\n",
       "      <td>1</td>\n",
       "      <td>0</td>\n",
       "      <td>...</td>\n",
       "      <td>2</td>\n",
       "      <td>0</td>\n",
       "      <td>AS_NEW</td>\n",
       "      <td>apartment</td>\n",
       "      <td>255</td>\n",
       "      <td>0</td>\n",
       "      <td>1</td>\n",
       "      <td>1</td>\n",
       "      <td>2</td>\n",
       "      <td>residential_sale</td>\n",
       "    </tr>\n",
       "  </tbody>\n",
       "</table>\n",
       "<p>5 rows × 32 columns</p>\n",
       "</div>"
      ],
      "text/plain": [
       "                                                  Url  BathroomCount  \\\n",
       "2   https://www.immoweb.be/en/classified/apartment...              1   \n",
       "8   https://www.immoweb.be/en/classified/house/for...              2   \n",
       "10  https://www.immoweb.be/en/classified/house/for...              1   \n",
       "11  https://www.immoweb.be/en/classified/apartment...              0   \n",
       "14  https://www.immoweb.be/en/classified/apartment...              1   \n",
       "\n",
       "    BedroomCount  ConstructionYear  Country  District  Fireplace  \\\n",
       "2              1              1969  Belgium    Brugge          0   \n",
       "8              4              2008  Belgium    Brugge          0   \n",
       "10             4              1971  Belgium    Veurne          0   \n",
       "11             2              1972  Belgium   Hasselt          0   \n",
       "14             1              1994  Belgium  Brussels          0   \n",
       "\n",
       "      FloodingZone  Furnished  Garden  ...  RoomCount ShowerCount  \\\n",
       "2   NON_FLOOD_ZONE          0       0  ...          1           0   \n",
       "8   NON_FLOOD_ZONE          1       0  ...          2           0   \n",
       "10  NON_FLOOD_ZONE          0       1  ...          2           0   \n",
       "11  NON_FLOOD_ZONE          0       0  ...          1           0   \n",
       "14  NON_FLOOD_ZONE          1       0  ...          2           0   \n",
       "\n",
       "    StateOfBuilding SubtypeOfProperty  SurfaceOfPlot  SwimmingPool Terrace  \\\n",
       "2              GOOD       flat_studio            255             0       1   \n",
       "8              GOOD             house              0             0       0   \n",
       "10    TO_BE_DONE_UP             house            170             0       1   \n",
       "11           AS_NEW         apartment            255             0       1   \n",
       "14           AS_NEW         apartment            255             0       1   \n",
       "\n",
       "    ToiletCount  TypeOfProperty        TypeOfSale  \n",
       "2             1               2  residential_sale  \n",
       "8             2               1  residential_sale  \n",
       "10            2               1  residential_sale  \n",
       "11            1               2  residential_sale  \n",
       "14            1               2  residential_sale  \n",
       "\n",
       "[5 rows x 32 columns]"
      ]
     },
     "execution_count": 36,
     "metadata": {},
     "output_type": "execute_result"
    }
   ],
   "source": [
    "df = df.astype({'BathroomCount': 'int64', 'ConstructionYear': 'int64', 'Fireplace': 'int64', 'Furnished': 'int64', 'Garden': 'int64', 'GardenArea': 'int64', 'LivingArea': 'int64', 'MonthlyCharges':'int64', 'NumberOfFacades': 'int64', 'RoomCount': 'int64', 'ShowerCount': 'int64', 'SurfaceOfPlot': 'int64', 'SwimmingPool': 'int64', 'Terrace': 'int64', 'ToiletCount': 'int64'})\n",
    "df.head()"
   ]
  },
  {
   "cell_type": "code",
   "execution_count": 37,
   "metadata": {},
   "outputs": [],
   "source": [
    "#seperating for-sale and for-rent\n",
    "dfsale = df[df['TypeOfSale'] == \"residential_sale\"]\n",
    "dfrent = df[df['TypeOfSale'] == \"residential_monthly_rent\"]"
   ]
  },
  {
   "cell_type": "code",
   "execution_count": 38,
   "metadata": {},
   "outputs": [],
   "source": [
    "#removing useless columns for each\n",
    "dfsale = dfsale.drop(columns=['TypeOfProperty','FloodingZone','Url','MonthlyCharges','Country'])\n",
    "dfrent = dfrent.drop(columns=['TypeOfProperty','FloodingZone','Url','Country','Furnished'])"
   ]
  },
  {
   "cell_type": "code",
   "execution_count": 39,
   "metadata": {},
   "outputs": [],
   "source": [
    "#removing nonsense price values for each\n",
    "dfsale.drop(dfsale[dfsale.Price > 1500000].index,inplace=True)\n",
    "dfsale.drop(dfsale[dfsale.Price < 90000].index,inplace=True)\n",
    "\n",
    "dfrent.drop(dfrent[dfrent.Price > 18000].index,inplace=True)\n",
    "dfrent.drop(dfrent[dfrent.Price < 250].index,inplace=True)\n",
    "dfrent.drop(dfrent[dfrent.MonthlyCharges > 900].index,inplace=True)"
   ]
  },
  {
   "cell_type": "code",
   "execution_count": 40,
   "metadata": {},
   "outputs": [
    {
     "data": {
      "text/plain": [
       "SubtypeOfProperty\n",
       "apartment               29557\n",
       "house                   26209\n",
       "ground_floor             2324\n",
       "duplex                   2083\n",
       "flat_studio              2026\n",
       "villa                    1698\n",
       "penthouse                1319\n",
       "apartment_block          1317\n",
       "mixed_use_building       1159\n",
       "service_flat              626\n",
       "kot                       581\n",
       "town_house                508\n",
       "mansion                   314\n",
       "loft                      312\n",
       "bungalow                  305\n",
       "triplex                   212\n",
       "country_cottage           102\n",
       "chalet                    101\n",
       "exceptional_property       82\n",
       "other_property             58\n",
       "farmhouse                  41\n",
       "manor_house                25\n",
       "show_house                  3\n",
       "pavilion                    3\n",
       "castle                      2\n",
       "Name: count, dtype: int64"
      ]
     },
     "execution_count": 40,
     "metadata": {},
     "output_type": "execute_result"
    }
   ],
   "source": [
    "df['SubtypeOfProperty'].value_counts()"
   ]
  },
  {
   "cell_type": "code",
   "execution_count": 41,
   "metadata": {},
   "outputs": [
    {
     "data": {
      "text/plain": [
       "StateOfBuilding\n",
       "GOOD              46014\n",
       "AS_NEW            11778\n",
       "TO_RENOVATE        4801\n",
       "JUST_RENOVATED     4114\n",
       "TO_BE_DONE_UP      3954\n",
       "TO_RESTORE          306\n",
       "Name: count, dtype: int64"
      ]
     },
     "execution_count": 41,
     "metadata": {},
     "output_type": "execute_result"
    }
   ],
   "source": [
    "df['StateOfBuilding'].value_counts()"
   ]
  },
  {
   "cell_type": "code",
   "execution_count": 42,
   "metadata": {},
   "outputs": [
    {
     "data": {
      "text/plain": [
       "PEB\n",
       "B       27910\n",
       "C       10612\n",
       "D        8382\n",
       "A        6940\n",
       "F        6540\n",
       "E        5552\n",
       "G        3842\n",
       "A+        908\n",
       "A++       242\n",
       "B_A        30\n",
       "F_C         2\n",
       "F_E         2\n",
       "E_D         1\n",
       "G_F         1\n",
       "A_A+        1\n",
       "G_C         1\n",
       "F_D         1\n",
       "Name: count, dtype: int64"
      ]
     },
     "execution_count": 42,
     "metadata": {},
     "output_type": "execute_result"
    }
   ],
   "source": [
    "df['PEB'].value_counts()"
   ]
  },
  {
   "cell_type": "code",
   "execution_count": 43,
   "metadata": {},
   "outputs": [
    {
     "data": {
      "text/plain": [
       "Kitchen\n",
       "INSTALLED             51221\n",
       "HYPER_EQUIPPED         9361\n",
       "SEMI_EQUIPPED          6022\n",
       "NOT_INSTALLED          2427\n",
       "USA_INSTALLED           907\n",
       "USA_HYPER_EQUIPPED      794\n",
       "USA_SEMI_EQUIPPED       163\n",
       "USA_UNINSTALLED          72\n",
       "Name: count, dtype: int64"
      ]
     },
     "execution_count": 43,
     "metadata": {},
     "output_type": "execute_result"
    }
   ],
   "source": [
    "df['Kitchen'].value_counts()"
   ]
  },
  {
   "cell_type": "code",
   "execution_count": 44,
   "metadata": {},
   "outputs": [],
   "source": [
    "df.to_csv('DF_cleaned.csv')\n",
    "dfsale.to_csv('df_cleaned_sale.csv',index=False)\n",
    "dfrent.to_csv('df_cleaned_rent.csv',index=False)"
   ]
  }
 ],
 "metadata": {
  "kernelspec": {
   "display_name": "Python 3",
   "language": "python",
   "name": "python3"
  },
  "language_info": {
   "codemirror_mode": {
    "name": "ipython",
    "version": 3
   },
   "file_extension": ".py",
   "mimetype": "text/x-python",
   "name": "python",
   "nbconvert_exporter": "python",
   "pygments_lexer": "ipython3",
   "version": "3.12.4"
  }
 },
 "nbformat": 4,
 "nbformat_minor": 2
}
